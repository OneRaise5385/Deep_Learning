{
 "cells": [
  {
   "cell_type": "code",
   "execution_count": 1,
   "metadata": {},
   "outputs": [],
   "source": [
    "import torch\n",
    "import pandas as pd\n",
    "import numpy as np\n",
    "import warnings\n",
    "warnings.filterwarnings(action='ignore')"
   ]
  },
  {
   "cell_type": "markdown",
   "metadata": {},
   "source": [
    "# 张量与线性代数"
   ]
  },
  {
   "cell_type": "code",
   "execution_count": 53,
   "metadata": {},
   "outputs": [
    {
     "data": {
      "text/plain": [
       "(tensor([[ 0,  1,  2,  3],\n",
       "         [ 4,  5,  6,  7],\n",
       "         [ 8,  9, 10, 11]]),\n",
       " tensor([[1, 2, 3, 9],\n",
       "         [4, 5, 6, 8],\n",
       "         [0, 1, 2, 0]]),\n",
       " tensor([[1., 2., 3., 9.],\n",
       "         [4., 5., 6., 8.],\n",
       "         [0., 1., 2., 0.]], dtype=torch.float64),\n",
       " tensor([[ 1,  2,  3,  4],\n",
       "         [ 5,  6,  7,  8],\n",
       "         [ 9, 10, 11, 12]]),\n",
       " tensor([[ 1,  3,  5, 12],\n",
       "         [ 8, 10, 12, 15],\n",
       "         [ 8, 10, 12, 11]]),\n",
       " tensor([[ 0,  2,  6, 27],\n",
       "         [16, 25, 36, 56],\n",
       "         [ 0,  9, 20,  0]]))"
      ]
     },
     "execution_count": 53,
     "metadata": {},
     "output_type": "execute_result"
    }
   ],
   "source": [
    "# 张量的创建\n",
    "A = torch.arange(12).reshape(3,4)\n",
    "B = torch.tensor([[1,2,3,9],[4,5,6,8],[0,1,2,0]])\n",
    "numpy_ = np.array([[1,2,3,9],[4,5,6,8],[0,1,2,0]], dtype='float')\n",
    "C = torch.tensor(numpy_)\n",
    "A, B, C, A + 1, A + B, A * B"
   ]
  },
  {
   "cell_type": "code",
   "execution_count": 60,
   "metadata": {},
   "outputs": [
    {
     "name": "stdout",
     "output_type": "stream",
     "text": [
      "tensor([1., 1., 1., 1.]) tensor([0., 1., 2., 3.])\n",
      "tensor([0., 1., 2., 3.])\n"
     ]
    },
    {
     "data": {
      "text/plain": [
       "tensor(6.)"
      ]
     },
     "execution_count": 60,
     "metadata": {},
     "output_type": "execute_result"
    }
   ],
   "source": [
    "# 点积\n",
    "x = torch.ones(4, dtype=torch.float32)\n",
    "y = torch.arange(4, dtype=torch.float32)\n",
    "print(x, y)\n",
    "print(x * y)\n",
    "torch.dot(x, y)"
   ]
  },
  {
   "cell_type": "code",
   "execution_count": 77,
   "metadata": {},
   "outputs": [
    {
     "name": "stdout",
     "output_type": "stream",
     "text": [
      "tensor([1., 1., 1., 1.])\n",
      "tensor([[ 0.,  1.,  2.,  3.],\n",
      "        [ 4.,  5.,  6.,  7.],\n",
      "        [ 8.,  9., 10., 11.]])\n"
     ]
    },
    {
     "data": {
      "text/plain": [
       "tensor([ 6., 22., 38.])"
      ]
     },
     "execution_count": 77,
     "metadata": {},
     "output_type": "execute_result"
    }
   ],
   "source": [
    "# 矩阵与向量的乘积\n",
    "A = torch.arange(12, dtype=torch.float32).reshape(3, 4)\n",
    "print(x)\n",
    "print(A)\n",
    "torch.mv(A, x)"
   ]
  },
  {
   "cell_type": "code",
   "execution_count": 81,
   "metadata": {},
   "outputs": [
    {
     "name": "stdout",
     "output_type": "stream",
     "text": [
      "tensor([[ 0.,  1.,  2.,  3.],\n",
      "        [ 4.,  5.,  6.,  7.],\n",
      "        [ 8.,  9., 10., 11.]])\n",
      "tensor([[ 0.,  1.,  2.],\n",
      "        [ 3.,  4.,  5.],\n",
      "        [ 6.,  7.,  8.],\n",
      "        [ 9., 10., 11.]])\n"
     ]
    },
    {
     "data": {
      "text/plain": [
       "tensor([[ 42.,  48.,  54.],\n",
       "        [114., 136., 158.],\n",
       "        [186., 224., 262.]])"
      ]
     },
     "execution_count": 81,
     "metadata": {},
     "output_type": "execute_result"
    }
   ],
   "source": [
    "# 矩阵与矩阵\n",
    "A = torch.arange(12, dtype=torch.float32).reshape(3,4)\n",
    "B = torch.arange(12, dtype=torch.float32).reshape(4,3)\n",
    "print(A)\n",
    "print(B)\n",
    "torch.mm(A,B)"
   ]
  },
  {
   "cell_type": "code",
   "execution_count": 90,
   "metadata": {},
   "outputs": [
    {
     "name": "stdout",
     "output_type": "stream",
     "text": [
      "tensor([[ 0.,  1.,  2.,  3.],\n",
      "        [ 4.,  5.,  6.,  7.],\n",
      "        [ 8.,  9., 10., 11.]])\n",
      "L2范数: tensor(22.4944)\n",
      "L2范数: tensor([ 8.9443, 10.3441, 11.8322, 13.3791])\n",
      "L1范数: tensor(66.)\n"
     ]
    }
   ],
   "source": [
    "# 范数\n",
    "print(A)\n",
    "print('L2范数:',A.norm())\n",
    "print('L2范数:',A.norm(dim=0))\n",
    "print('L1范数:',A.abs().sum())"
   ]
  },
  {
   "cell_type": "markdown",
   "metadata": {},
   "source": [
    "# 自动微分"
   ]
  },
  {
   "cell_type": "code",
   "execution_count": 57,
   "metadata": {},
   "outputs": [
    {
     "name": "stdout",
     "output_type": "stream",
     "text": [
      "tensor([0., 1., 2., 3.], requires_grad=True)\n",
      "tensor(28., grad_fn=<MulBackward0>)\n",
      "tensor([ 0.,  4.,  8., 12.])\n"
     ]
    }
   ],
   "source": [
    "# 自动微分\n",
    "x = torch.arange(4.0, requires_grad=True)\n",
    "# 定义y\n",
    "y = 2*torch.dot(x,x)\n",
    "y.backward()  # 求导\n",
    "x_grad = x.grad\n",
    "print(x)\n",
    "print(y)\n",
    "print(x_grad)"
   ]
  },
  {
   "cell_type": "code",
   "execution_count": 67,
   "metadata": {},
   "outputs": [
    {
     "name": "stdout",
     "output_type": "stream",
     "text": [
      "tensor([0., 1., 2., 3.], requires_grad=True)\n",
      "tensor(6., grad_fn=<SumBackward0>)\n",
      "tensor([1., 1., 1., 1.])\n"
     ]
    }
   ],
   "source": [
    "# 非标量变量的反向传播\n",
    "# 清除导数\n",
    "x.grad.zero_()\n",
    "# 定义y\n",
    "y = x.sum()\n",
    "# 求导\n",
    "y.backward()\n",
    "x_grad = x.grad\n",
    "print(x)\n",
    "print(y)\n",
    "print(x_grad)"
   ]
  },
  {
   "cell_type": "code",
   "execution_count": 87,
   "metadata": {},
   "outputs": [],
   "source": [
    "# python控制流的梯度算法\n",
    "def f(a):\n",
    "    b = a * 2\n",
    "    while b.norm() < 1000:\n",
    "        b = b * 2\n",
    "    if b.sum() > 0:\n",
    "        c = b\n",
    "    else:\n",
    "        c = 100 * b\n",
    "    return c\n",
    "\n",
    "a = torch.randn(size=(),requires_grad=True)\n",
    "d = f(a)\n",
    "d.backward()"
   ]
  }
 ],
 "metadata": {
  "kernelspec": {
   "display_name": "base",
   "language": "python",
   "name": "python3"
  },
  "language_info": {
   "codemirror_mode": {
    "name": "ipython",
    "version": 3
   },
   "file_extension": ".py",
   "mimetype": "text/x-python",
   "name": "python",
   "nbconvert_exporter": "python",
   "pygments_lexer": "ipython3",
   "version": "3.11.4"
  }
 },
 "nbformat": 4,
 "nbformat_minor": 2
}
